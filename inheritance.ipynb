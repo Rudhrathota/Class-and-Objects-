{
  "metadata": {
    "kernelspec": {
      "name": "python",
      "display_name": "Python (Pyodide)",
      "language": "python"
    },
    "language_info": {
      "codemirror_mode": {
        "name": "ipython",
        "version": 3
      },
      "file_extension": ".py",
      "mimetype": "text/x-python",
      "name": "python",
      "nbconvert_exporter": "python",
      "pygments_lexer": "ipython3",
      "version": "3.12.0"
    }
  },
  "nbformat_minor": 4,
  "nbformat": 4,
  "cells": [
    {
      "cell_type": "markdown",
      "source": "#### Inheritance In Python\nInheritance is a fundamental concept in Object-Oriented Programming (OOP) that allows a class to inherit attributes and methods from another class. This lesson covers single inheritance and multiple inheritance, demonstrating how to create and use them in Python.",
      "metadata": {}
    },
    {
      "cell_type": "code",
      "source": "## Inheritance (Single Inheritance)\n## Parent class\nclass Car:\n    def __init__(self,windows,doors,enginetype):\n        self.windows=windows\n        self.doors=doors\n        self.enginetype=enginetype\n    \n    def drive(self):\n        print(f\"The person will drive the {self.enginetype} car \")\n",
      "metadata": {
        "trusted": true
      },
      "outputs": [],
      "execution_count": null
    },
    {
      "cell_type": "code",
      "source": "car1=Car(4,5,\"petrol\")\ncar1.drive()",
      "metadata": {
        "trusted": true
      },
      "outputs": [],
      "execution_count": null
    },
    {
      "cell_type": "code",
      "source": "class Tesla(Car):\n    def __init__(self,windows,doors,enginetype,is_selfdriving):\n        super().__init__(windows,doors,enginetype)\n        self.is_selfdriving=is_selfdriving\n\n    def selfdriving(self):\n        print(f\"Tesla supports self driving : {self.is_selfdriving}\")",
      "metadata": {
        "trusted": true
      },
      "outputs": [],
      "execution_count": null
    },
    {
      "cell_type": "code",
      "source": "tesla1=Tesla(4,5,\"electric\",True)\ntesla1.selfdriving()",
      "metadata": {
        "trusted": true
      },
      "outputs": [],
      "execution_count": null
    },
    {
      "cell_type": "code",
      "source": "tesla1.drive()",
      "metadata": {
        "trusted": true
      },
      "outputs": [],
      "execution_count": null
    },
    {
      "cell_type": "code",
      "source": "### Multiple Inheritance\n## When a class inherits from more than one base class.\n## Base class 1\nclass Animal:\n    def __init__(self,name):\n        self.name=name\n\n    def speak(self):\n        print(\"Subclass must implement this method\")\n\n## BAse class 2\nclass Pet:\n    def __init__(self, owner):\n        self.owner = owner\n\n\n##Derived class\nclass Dog(Animal,Pet):\n    def __init__(self,name,owner):\n        Animal.__init__(self,name)\n        Pet.__init__(self,owner)\n\n    def speak(self):\n        return f\"{self.name} say woof\"\n    \n\n## Create an object\ndog=Dog(\"Buddy\",\"Rudhra\")\nprint(dog.speak())\nprint(f\"Owner:{dog.owner}\")\n\n\n",
      "metadata": {
        "trusted": true
      },
      "outputs": [],
      "execution_count": null
    },
    {
      "cell_type": "markdown",
      "source": "#### Conclusion\nInheritance is a powerful feature in OOP that allows for code reuse and the creation of a more logical class structure. Single inheritance involves one base class, while multiple inheritance involves more than one base class. Understanding how to implement and use inheritance in Python will enable you to design more efficient and maintainable object-oriented programs.",
      "metadata": {}
    },
    {
      "cell_type": "code",
      "source": "",
      "metadata": {
        "trusted": true
      },
      "outputs": [],
      "execution_count": null
    },
    {
      "cell_type": "code",
      "source": "",
      "metadata": {
        "trusted": true
      },
      "outputs": [],
      "execution_count": null
    },
    {
      "cell_type": "code",
      "source": "",
      "metadata": {
        "trusted": true
      },
      "outputs": [],
      "execution_count": null
    },
    {
      "cell_type": "code",
      "source": "",
      "metadata": {
        "trusted": true
      },
      "outputs": [],
      "execution_count": null
    }
  ]
}