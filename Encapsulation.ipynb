{
  "metadata": {
    "kernelspec": {
      "name": "python",
      "display_name": "Python (Pyodide)",
      "language": "python"
    },
    "language_info": {
      "codemirror_mode": {
        "name": "ipython",
        "version": 3
      },
      "file_extension": ".py",
      "mimetype": "text/x-python",
      "name": "python",
      "nbconvert_exporter": "python",
      "pygments_lexer": "ipython3",
      "version": "3.12.0"
    }
  },
  "nbformat_minor": 4,
  "nbformat": 4,
  "cells": [
    {
      "cell_type": "markdown",
      "source": "#### Encapsulation And Abstraction\nEncapsulation and abstraction are two fundamental principles of Object-Oriented Programming (OOP) that help in designing robust, maintainable, and reusable code. Encapsulation involves bundling data and methods that operate on the data within a single unit, while abstraction involves hiding complex implementation details and exposing only the necessary features.",
      "metadata": {}
    },
    {
      "cell_type": "markdown",
      "source": "##### Encapsulation\nEncapsulation is the concept of wrapping data (variables) and methods (functions) together as a single unit. It restricts direct access to some of the object's components, which is a means of preventing accidental interference and misuse of the data.\n",
      "metadata": {}
    },
    {
      "cell_type": "code",
      "source": "### Encapsulation  with Getter and Setter MEthods\n### Public,protected,private variables or access modifiers\n\nclass Person:\n    def __init__(self,name,age):\n        self.name=name    ## public variables\n        self.age=age      ## public variables\n\ndef get_name(person):\n    return person.name\n\nperson=Person(\"Rudhra\",26)\nget_name(person)",
      "metadata": {
        "trusted": true
      },
      "outputs": [],
      "execution_count": null
    },
    {
      "cell_type": "code",
      "source": "dir(person)",
      "metadata": {
        "trusted": true
      },
      "outputs": [],
      "execution_count": null
    },
    {
      "cell_type": "code",
      "source": "class Person:\n    def __init__(self,name,age,gender):\n        self.__name=name    ## private variables\n        self.__age=age      ## private variables\n        self.gender=gender\n\ndef get_name(person):\n    return person.__name\n\nperson=Person(\"Rudhra\",26,\"Male\")\nget_name(person)\n",
      "metadata": {
        "trusted": true
      },
      "outputs": [],
      "execution_count": null
    },
    {
      "cell_type": "code",
      "source": "dir(person)",
      "metadata": {
        "trusted": true
      },
      "outputs": [],
      "execution_count": null
    },
    {
      "cell_type": "code",
      "source": "class Person:\n    def __init__(self,name,age,gender):\n        self._name=name    ## protected variables\n        self._age=age      ## protected variables\n        self.gender=gender\n\nclass Employee(Person):\n    def __init__(self,name,age,gender):\n        super().__init__(name,age,gender)\n\n\nemployee=Employee(\"Rudhra\",26,\"Male\")\nprint(employee._name)\n",
      "metadata": {
        "trusted": true
      },
      "outputs": [],
      "execution_count": null
    },
    {
      "cell_type": "code",
      "source": "## Encapsulation With Getter And Setter\nclass Person:\n    def __init__(self,name,age):\n        self.__name=name  ## Private access modifier or variable\n        self.__age=age ## Private variable\n\n    ## getter method for name\n    def get_name(self):\n        return self.__name\n    \n    ## setter method for name\n    def set_name(self,name):\n        self.__name=name\n\n    # Getter method for age\n    def get_age(self):\n        return self.__age\n    \n    # Setter method for age\n    def set_age(self, age):\n        if age > 0:\n            self.__age = age\n        else:\n            print(\"Age cannot be negative.\")\n\n\nperson=Person(\"Rudhra\",26)\n\n## Access and modify private variables using getter and setter\n\nprint(person.get_name())\nprint(person.get_age())\n\nperson.set_age(35)\nprint(person.get_age())\n\nperson.set_age(-5)\n    \n",
      "metadata": {
        "trusted": true
      },
      "outputs": [],
      "execution_count": null
    },
    {
      "cell_type": "code",
      "source": "",
      "metadata": {
        "trusted": true
      },
      "outputs": [],
      "execution_count": null
    },
    {
      "cell_type": "code",
      "source": "",
      "metadata": {
        "trusted": true
      },
      "outputs": [],
      "execution_count": null
    },
    {
      "cell_type": "code",
      "source": "",
      "metadata": {
        "trusted": true
      },
      "outputs": [],
      "execution_count": null
    },
    {
      "cell_type": "code",
      "source": "",
      "metadata": {
        "trusted": true
      },
      "outputs": [],
      "execution_count": null
    },
    {
      "cell_type": "code",
      "source": "",
      "metadata": {
        "trusted": true
      },
      "outputs": [],
      "execution_count": null
    }
  ]
}