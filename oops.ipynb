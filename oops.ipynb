{
  "metadata": {
    "kernelspec": {
      "name": "python",
      "display_name": "Python (Pyodide)",
      "language": "python"
    },
    "language_info": {
      "codemirror_mode": {
        "name": "ipython",
        "version": 3
      },
      "file_extension": ".py",
      "mimetype": "text/x-python",
      "name": "python",
      "nbconvert_exporter": "python",
      "pygments_lexer": "ipython3",
      "version": "3.12.0"
    }
  },
  "nbformat_minor": 4,
  "nbformat": 4,
  "cells": [
    {
      "cell_type": "markdown",
      "source": "####  Classes and Objects\nObject-Oriented Programming (OOP) is a programming paradigm that uses \"objects\" to design applications and computer programs. OOP allows for modeling real-world scenarios using classes and objects. This lesson covers the basics of creating classes and objects, including instance variables and methods.",
      "metadata": {}
    },
    {
      "cell_type": "code",
      "source": "### A class is a blue print for creating objects. Attributes,methods\nclass Car:\n    pass\n\naudi=Car()\nbmw=Car()\n\nprint(type(audi))\n",
      "metadata": {
        "trusted": true
      },
      "outputs": [],
      "execution_count": null
    },
    {
      "cell_type": "code",
      "source": "print(audi)\nprint(bmw)",
      "metadata": {
        "trusted": true
      },
      "outputs": [],
      "execution_count": null
    },
    {
      "cell_type": "code",
      "source": "audi.windows=4\n\nprint(audi.windows)",
      "metadata": {
        "trusted": true
      },
      "outputs": [],
      "execution_count": null
    },
    {
      "cell_type": "code",
      "source": "tata=Car()\ntata.doors=4\nprint(tata.windows)",
      "metadata": {
        "trusted": true
      },
      "outputs": [],
      "execution_count": null
    },
    {
      "cell_type": "code",
      "source": "dir(tata)",
      "metadata": {
        "trusted": true
      },
      "outputs": [],
      "execution_count": null
    },
    {
      "cell_type": "code",
      "source": "### Instance Variable and Methods\nclass Dog:\n    ## constructor\n    def __init__(self,name,age):\n        self.name=name\n        self.age=age\n\n## create objects\ndog1=Dog(\"Buddy\",3)\nprint(dog1)\nprint(dog1.name)\nprint(dog1.age)\n    \n    ",
      "metadata": {
        "trusted": true
      },
      "outputs": [],
      "execution_count": null
    },
    {
      "cell_type": "code",
      "source": "dog2=Dog(\"Lucy\",4)\nprint(dog2.name)\nprint(dog2.age)",
      "metadata": {
        "trusted": true
      },
      "outputs": [],
      "execution_count": null
    },
    {
      "cell_type": "code",
      "source": "## Define a class with instance methods\nclass Dog:\n    def __init__(self,name,age):\n        self.name=name\n        self.age=age\n    \n    def bark(self):\n        print(f\"{self.name} says woof\")\n\n\ndog1=Dog(\"Buddy\",3)\ndog1.bark()\ndog2=Dog(\"Lucy\",4)\ndog2.bark()\n\n",
      "metadata": {
        "trusted": true
      },
      "outputs": [],
      "execution_count": null
    },
    {
      "cell_type": "code",
      "source": "### Modeling a Bank Account\n\n## Define a class for bank account\nclass BankAccount:\n    def __init__(self,owner,balance=0):\n        self.owner=owner\n        self.balance=balance\n\n    def deposit(self,amount):\n        self.balance+=amount\n        print(f\"{amount} is deposited. New balance is {self.balance}\")\n\n    def withdraw(self,amount):\n        if amount>self.balance:\n            print(\"Insufficient funds!\")\n        else:\n            self.balance-=amount\n            print(f\"{amount} is withdrawn. New Balance is {self.balance}\")\n\n    def get_balance(self):\n        return self.balance\n    \n## create an account\n\naccount=BankAccount(\"Rudhra\",5000)\nprint(account.balance)\n\n    ",
      "metadata": {
        "trusted": true
      },
      "outputs": [],
      "execution_count": null
    },
    {
      "cell_type": "markdown",
      "source": "",
      "metadata": {}
    },
    {
      "cell_type": "code",
      "source": "## Call isntance methods\naccount.deposit(100)",
      "metadata": {
        "trusted": true
      },
      "outputs": [],
      "execution_count": null
    },
    {
      "cell_type": "code",
      "source": "account.withdraw(300)",
      "metadata": {
        "trusted": true
      },
      "outputs": [],
      "execution_count": null
    },
    {
      "cell_type": "code",
      "source": "print(account.get_balance())",
      "metadata": {
        "trusted": true
      },
      "outputs": [],
      "execution_count": null
    },
    {
      "cell_type": "markdown",
      "source": "#### Conclusion\nObject-Oriented Programming (OOP) allows you to model real-world scenarios using classes and objects. In this lesson, you learned how to create classes and objects, define instance variables and methods, and use them to perform various operations. Understanding these concepts is fundamental to writing effective and maintainable Python code.",
      "metadata": {}
    },
    {
      "cell_type": "code",
      "source": "",
      "metadata": {
        "trusted": true
      },
      "outputs": [],
      "execution_count": null
    },
    {
      "cell_type": "code",
      "source": "",
      "metadata": {
        "trusted": true
      },
      "outputs": [],
      "execution_count": null
    },
    {
      "cell_type": "code",
      "source": "",
      "metadata": {
        "trusted": true
      },
      "outputs": [],
      "execution_count": null
    }
  ]
}