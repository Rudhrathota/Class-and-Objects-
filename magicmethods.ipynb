{
  "metadata": {
    "kernelspec": {
      "name": "python",
      "display_name": "Python (Pyodide)",
      "language": "python"
    },
    "language_info": {
      "codemirror_mode": {
        "name": "ipython",
        "version": 3
      },
      "file_extension": ".py",
      "mimetype": "text/x-python",
      "name": "python",
      "nbconvert_exporter": "python",
      "pygments_lexer": "ipython3",
      "version": "3.12.0"
    }
  },
  "nbformat_minor": 4,
  "nbformat": 4,
  "cells": [
    {
      "cell_type": "markdown",
      "source": "#### Magic Methods\nMagic methods in Python, also known as dunder methods (double underscore methods), are special methods that start and end with double underscores. These methods enable you to define the behavior of objects for built-in operations, such as arithmetic operations, comparisons, and more.",
      "metadata": {}
    },
    {
      "cell_type": "markdown",
      "source": "##### Magic Methods\nMagic methods are predefined methods in Python that you can override to change the behavior of your objects. Some common magic methods include:\n\n",
      "metadata": {}
    },
    {
      "cell_type": "code",
      "source": "'''\n__init__': Initializes a new instance of a class.\n__str__: Returns a string representation of an object.\n__repr__: Returns an official string representation of an object.\n__len__: Returns the length of an object.\n__getitem__: Gets an item from a container.\n__setitem__: Sets an item in a container.\n'''",
      "metadata": {
        "trusted": true
      },
      "outputs": [],
      "execution_count": null
    },
    {
      "cell_type": "code",
      "source": "class Person:\n    pass\n\nperson=Person()\ndir(person)",
      "metadata": {
        "trusted": true
      },
      "outputs": [],
      "execution_count": null
    },
    {
      "cell_type": "code",
      "source": "print(person)",
      "metadata": {
        "trusted": true
      },
      "outputs": [],
      "execution_count": null
    },
    {
      "cell_type": "code",
      "source": "## Basics MEthods\nclass Person:\n    def __init__(self,name,age):\n        self.name=name\n        self.age=age\nperson=Person(\"Rudhra\",26)\nprint(person)",
      "metadata": {
        "trusted": true
      },
      "outputs": [],
      "execution_count": null
    },
    {
      "cell_type": "code",
      "source": "## Basics MEthods\nclass Person:\n    def __init__(self,name,age):\n        self.name=name\n        self.age=age\n    \n    def __str__(self):\n        return f\"{self.name},{self.age} years old\"\n    \n    def __repr__(self):\n        return f\"Person(name={self.name},age={self.age})\"\n    \nperson=Person(\"Rudhra\",26)\nprint(person)\nprint(repr(person))",
      "metadata": {
        "trusted": true
      },
      "outputs": [],
      "execution_count": null
    },
    {
      "cell_type": "code",
      "source": "",
      "metadata": {
        "trusted": true
      },
      "outputs": [],
      "execution_count": null
    }
  ]
}