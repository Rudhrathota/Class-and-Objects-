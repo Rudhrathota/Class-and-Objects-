{
  "metadata": {
    "kernelspec": {
      "name": "python",
      "display_name": "Python (Pyodide)",
      "language": "python"
    },
    "language_info": {
      "codemirror_mode": {
        "name": "ipython",
        "version": 3
      },
      "file_extension": ".py",
      "mimetype": "text/x-python",
      "name": "python",
      "nbconvert_exporter": "python",
      "pygments_lexer": "ipython3",
      "version": "3.12.0"
    }
  },
  "nbformat_minor": 4,
  "nbformat": 4,
  "cells": [
    {
      "cell_type": "markdown",
      "source": "#### Polymorphism\nPolymorphism is a core concept in Object-Oriented Programming (OOP) that allows objects of different classes to be treated as objects of a common superclass. It provides a way to perform a single action in different forms. Polymorphism is typically achieved through method overriding and interfaces",
      "metadata": {}
    },
    {
      "cell_type": "markdown",
      "source": "###  Method Overriding\nMethod overriding allows a child class to provide a specific implementation of a method that is already defined in its parent class.",
      "metadata": {}
    },
    {
      "cell_type": "code",
      "source": "## Base Class\nclass Animal:\n    def speak(self):\n        return \"Sound of the animal\"\n    \n## Derived Class 1\nclass Dog(Animal):\n    def speak(self):\n        return \"Woof!\"\n    \n## Derived class\nclass Cat(Animal):\n    def speak(self):\n        return \"Meow!\"\n    \n## Function that demonstrates polymorphism\ndef animal_speak(animal):\n    print(animal.speak())\n    \ndog=Dog()\ncat=Cat()\nprint(dog.speak())\nprint(cat.speak())\nanimal_speak(dog)\n",
      "metadata": {
        "trusted": true
      },
      "outputs": [],
      "execution_count": null
    },
    {
      "cell_type": "code",
      "source": "### Polymorphissm with Functions and MEthods\n## base class\nclass Shape:\n    def area(self):\n        return \"The area of the figure\"\n    \n## Derived class 1\nclass Rectangle(Shape):\n    def __init__(self,width,height):\n        self.width=width\n        self.height=height\n\n    def area(self):\n        return self.width * self.height\n    \n##DErived class 2\n\nclass Circle(Shape):\n    def __init__(self,radius):\n        self.radius=radius\n\n    def area(self):\n        return 3.14*self.radius *self.radius\n    \n## Fucntion that demonstrates polymorphism\n\ndef print_area(shape):\n    print(f\"the area is {shape.area()}\")\n\n\nrectangle=Rectangle(4,5)\ncircle=Circle(3)\n\nprint_area(rectangle)\nprint_area(circle)\n\n\n\n",
      "metadata": {
        "trusted": true
      },
      "outputs": [],
      "execution_count": null
    },
    {
      "cell_type": "markdown",
      "source": "#### Polymorphism with Abstract Base Classes\nAbstract Base Classes (ABCs) are used to define common methods for a group of related objects. They can enforce that derived classes implement particular methods, promoting consistency across different implementations.",
      "metadata": {}
    },
    {
      "cell_type": "code",
      "source": "from abc import ABC,abstractmethod\n\n## Define an abstract class\nclass Vehicle(ABC):\n    @abstractmethod\n    def start_engine(self):\n        pass\n\n## Derived class 1\nclass Car(Vehicle):\n    def start_engine(self):\n        return \"Car enginer started\"\n    \n## Derived class 2\nclass Motorcycle(Vehicle):\n    def start_engine(self):\n        return \"Motorcycle enginer started\"\n    \n# Function that demonstrates polymorphism\ndef start_vehicle(vehicle):\n    print(vehicle.start_engine())\n\n## create objects of cAr and Motorcycle\n\ncar = Car()\nmotorcycle = Motorcycle()\n\nstart_vehicle(car)\n\n\n",
      "metadata": {
        "trusted": true
      },
      "outputs": [],
      "execution_count": null
    },
    {
      "cell_type": "markdown",
      "source": "#### Conclusion\nPolymorphism is a powerful feature of OOP that allows for flexibility and integration in code design. It enables a single function to handle objects of different classes, each with its own implementation of a method. By understanding and applying polymorphism, you can create more extensible and maintainable object-oriented programs.",
      "metadata": {}
    },
    {
      "cell_type": "code",
      "source": "",
      "metadata": {
        "trusted": true
      },
      "outputs": [],
      "execution_count": null
    },
    {
      "cell_type": "code",
      "source": "",
      "metadata": {
        "trusted": true
      },
      "outputs": [],
      "execution_count": null
    },
    {
      "cell_type": "code",
      "source": "",
      "metadata": {
        "trusted": true
      },
      "outputs": [],
      "execution_count": null
    },
    {
      "cell_type": "code",
      "source": "",
      "metadata": {
        "trusted": true
      },
      "outputs": [],
      "execution_count": null
    },
    {
      "cell_type": "code",
      "source": "",
      "metadata": {
        "trusted": true
      },
      "outputs": [],
      "execution_count": null
    },
    {
      "cell_type": "code",
      "source": "",
      "metadata": {
        "trusted": true
      },
      "outputs": [],
      "execution_count": null
    },
    {
      "cell_type": "code",
      "source": "",
      "metadata": {
        "trusted": true
      },
      "outputs": [],
      "execution_count": null
    },
    {
      "cell_type": "code",
      "source": "",
      "metadata": {
        "trusted": true
      },
      "outputs": [],
      "execution_count": null
    },
    {
      "cell_type": "code",
      "source": "",
      "metadata": {
        "trusted": true
      },
      "outputs": [],
      "execution_count": null
    },
    {
      "cell_type": "code",
      "source": "",
      "metadata": {
        "trusted": true
      },
      "outputs": [],
      "execution_count": null
    },
    {
      "cell_type": "code",
      "source": "",
      "metadata": {
        "trusted": true
      },
      "outputs": [],
      "execution_count": null
    }
  ]
}